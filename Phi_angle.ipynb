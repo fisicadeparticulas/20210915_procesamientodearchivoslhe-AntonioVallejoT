{
  "nbformat": 4,
  "nbformat_minor": 0,
  "metadata": {
    "colab": {
      "name": "Phi_angle.ipynb",
      "provenance": [],
      "authorship_tag": "ABX9TyP/UmYrQJId4MFiN8jcpAPf",
      "include_colab_link": true
    },
    "kernelspec": {
      "name": "python3",
      "display_name": "Python 3"
    },
    "language_info": {
      "name": "python"
    }
  },
  "cells": [
    {
      "cell_type": "markdown",
      "metadata": {
        "id": "view-in-github",
        "colab_type": "text"
      },
      "source": [
        "<a href=\"https://colab.research.google.com/github/fisicadeparticulas/20210915_procesamientodearchivoslhe-AntonioVallejoT/blob/main/Phi_angle.ipynb\" target=\"_parent\"><img src=\"https://colab.research.google.com/assets/colab-badge.svg\" alt=\"Open In Colab\"/></a>"
      ]
    },
    {
      "cell_type": "code",
      "metadata": {
        "colab": {
          "base_uri": "https://localhost:8080/",
          "height": 367
        },
        "id": "yOwVo0DFkGRF",
        "outputId": "223b493a-bf6e-4435-9f85-04e3eaba0193"
      },
      "source": [
        "import pandas as pd \n",
        "import numpy as np\n",
        "import matplotlib.pyplot as plt\n",
        "from scipy.stats import norm\n",
        "\n",
        "\n",
        "\n",
        "data=pd.read_csv(\"/content/mu_mu.csv\")\n",
        "\n",
        "data.head()\n",
        "\n",
        "Phi = np.arctan( data['py1']/data['px1'])\n",
        "\n",
        "plt.hist(Phi)"
      ],
      "execution_count": 8,
      "outputs": [
        {
          "output_type": "execute_result",
          "data": {
            "text/plain": [
              "(array([ 958.,  974., 1015., 1013., 1013.,  968., 1018.,  995., 1031.,\n",
              "        1015.]),\n",
              " array([-1.57044697e+00, -1.25634513e+00, -9.42243279e-01, -6.28141431e-01,\n",
              "        -3.14039583e-01,  6.22647856e-05,  3.14164113e-01,  6.28265961e-01,\n",
              "         9.42367808e-01,  1.25646966e+00,  1.57057150e+00]),\n",
              " <a list of 10 Patch objects>)"
            ]
          },
          "metadata": {},
          "execution_count": 8
        },
        {
          "output_type": "display_data",
          "data": {
            "image/png": "[encoded data removed]",
            "text/plain": [
              "<Figure size 432x288 with 1 Axes>"
            ]
          },
          "metadata": {
            "needs_background": "light"
          }
        }
      ]
    },
    {
      "cell_type": "code",
      "metadata": {
        "id": "jdUt-2eak04C"
      },
      "source": [
        ""
      ],
      "execution_count": null,
      "outputs": []
    }
  ]
}