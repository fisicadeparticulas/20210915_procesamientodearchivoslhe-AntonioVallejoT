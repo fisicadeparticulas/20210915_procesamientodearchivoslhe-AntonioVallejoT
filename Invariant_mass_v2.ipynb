{
  "nbformat": 4,
  "nbformat_minor": 0,
  "metadata": {
    "colab": {
      "name": "Invariant_mass_v2.ipynb",
      "provenance": [],
      "collapsed_sections": [],
      "mount_file_id": "1WXL7OAArbz8aZnCQ9xm9amKH3d-aQKX_",
      "authorship_tag": "ABX9TyPjTdSp8sVoY+9/Palhq09O",
      "include_colab_link": true
    },
    "kernelspec": {
      "name": "python3",
      "display_name": "Python 3"
    },
    "language_info": {
      "name": "python"
    }
  },
  "cells": [
    {
      "cell_type": "markdown",
      "metadata": {
        "id": "view-in-github",
        "colab_type": "text"
      },
      "source": [
        "<a href=\"https://colab.research.google.com/github/fisicadeparticulas/20210915_procesamientodearchivoslhe-AntonioVallejoT/blob/main/Invariant_mass_v2.ipynb\" target=\"_parent\"><img src=\"https://colab.research.google.com/assets/colab-badge.svg\" alt=\"Open In Colab\"/></a>"
      ]
    },
    {
      "cell_type": "code",
      "metadata": {
        "colab": {
          "base_uri": "https://localhost:8080/",
          "height": 368
        },
        "id": "mMtgk1pt6r-8",
        "outputId": "7b56311e-0d69-4256-e518-a91d41d070c4"
      },
      "source": [
        "import pandas as pd \n",
        "import numpy as np\n",
        "import matplotlib.pyplot as plt\n",
        "from scipy.stats import norm\n",
        "import scipy.constants as sc\n",
        "\n",
        "\n",
        "data=pd.read_csv(\"/content/mu_mu.csv\")\n",
        "\n",
        "data.head()\n",
        "\n",
        "E= (data['E'] + data['E1'])**2\n",
        "Px= (data['px']+data['px1'])**2\n",
        "Py= (data['py']+data['py1'])**2\n",
        "Pz= (data['pz']+data['pz1'])**2\n",
        "P = Px + Py + Pz\n",
        "EP = E-P\n",
        "\n",
        "m = np.sqrt(EP)\n",
        "\n",
        "plt.hist(EP)\n",
        "\n",
        "#El problema era que se estaba usando otra definición de masa invariante...\n",
        "#Aunque en el eje x se observan valores muy grandes...\n",
        "\n"
      ],
      "execution_count": null,
      "outputs": [
        {
          "output_type": "execute_result",
          "data": {
            "text/plain": [
              "(array([  67.,  104.,  285., 4278., 4829.,  277.,   80.,   37.,   27.,\n",
              "          16.]),\n",
              " array([ 3002.226384  ,  4323.23708968,  5644.24779536,  6965.25850104,\n",
              "         8286.26920672,  9607.2799124 , 10928.29061809, 12249.30132377,\n",
              "        13570.31202945, 14891.32273513, 16212.33344081]),\n",
              " <a list of 10 Patch objects>)"
            ]
          },
          "metadata": {},
          "execution_count": 6
        },
        {
          "output_type": "display_data",
          "data": {
            "image/png": "[encoded data removed]",
            "text/plain": [
              "<Figure size 432x288 with 1 Axes>"
            ]
          },
          "metadata": {
            "needs_background": "light"
          }
        }
      ]
    }
  ]
}