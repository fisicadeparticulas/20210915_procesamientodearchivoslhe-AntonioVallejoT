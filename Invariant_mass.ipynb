{
  "nbformat": 4,
  "nbformat_minor": 0,
  "metadata": {
    "colab": {
      "name": "Invariant_mass.ipynb",
      "provenance": [],
      "mount_file_id": "1WXL7OAArbz8aZnCQ9xm9amKH3d-aQKX_",
      "authorship_tag": "ABX9TyO5I4hfBlQ6qloYCgBftJs6",
      "include_colab_link": true
    },
    "kernelspec": {
      "name": "python3",
      "display_name": "Python 3"
    },
    "language_info": {
      "name": "python"
    }
  },
  "cells": [
    {
      "cell_type": "markdown",
      "metadata": {
        "id": "view-in-github",
        "colab_type": "text"
      },
      "source": [
        "<a href=\"https://colab.research.google.com/github/fisicadeparticulas/20210915_procesamientodearchivoslhe-AntonioVallejoT/blob/main/Invariant_mass.ipynb\" target=\"_parent\"><img src=\"https://colab.research.google.com/assets/colab-badge.svg\" alt=\"Open In Colab\"/></a>"
      ]
    },
    {
      "cell_type": "code",
      "metadata": {
        "colab": {
          "base_uri": "https://localhost:8080/"
        },
        "id": "mMtgk1pt6r-8",
        "outputId": "3c5ffa4d-b6b2-4b36-dfe6-7e37f5afc608"
      },
      "source": [
        "import pandas as pd \n",
        "import numpy as np\n",
        "import matplotlib.pyplot as plt\n",
        "from scipy.stats import norm\n",
        "from scipy import constants as sc\n",
        "\n",
        "\n",
        "data=pd.read_csv(\"/content/mu_mu.csv\")\n",
        "\n",
        "data.head()\n",
        "\n",
        "E= data['E'] + data['E1']\n",
        "Px= data['px']+data['px1']\n",
        "Py= data['py']+data['py1']\n",
        "Pz= data['pz']+data['pz1']\n",
        "P = Px + Py + Pz\n",
        "c = sc.c\n",
        "\n",
        "#Se intenta obtener la masa de Z pero al parecer surge un\n",
        "#Valor negativo dentro de la raíz...\n",
        "m_0 = np.sqrt((E/(c)**2)**2 - (P/c)**2)\n",
        "\n",
        "#Invariant mass\n",
        "#plt.hist((1/sc.c)*np.sqrt((data[E]/sc.c)^2 - (data[px]^2 + data[py]^2 + data[pz]^2)))\n",
        "#m_1 = np.sqrt((data['E1'])**2 - (data['px1']**2 + data['py1']**2 + data['pz1']**2))"
      ],
      "execution_count": 1,
      "outputs": [
        {
          "output_type": "stream",
          "name": "stderr",
          "text": [
            "/usr/local/lib/python3.7/dist-packages/pandas/core/series.py:726: RuntimeWarning: invalid value encountered in sqrt\n",
            "  result = getattr(ufunc, method)(*inputs, **kwargs)\n"
          ]
        }
      ]
    },
    {
      "cell_type": "code",
      "metadata": {
        "id": "2QhqWf1Zw0RL"
      },
      "source": [
        "plt.hist(m_0)"
      ],
      "execution_count": null,
      "outputs": []
    },
    {
      "cell_type": "code",
      "metadata": {
        "id": "urexDI-exRK4"
      },
      "source": [
        ""
      ],
      "execution_count": null,
      "outputs": []
    }
  ]
}