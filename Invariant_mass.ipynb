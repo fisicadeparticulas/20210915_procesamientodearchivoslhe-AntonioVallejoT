{
  "nbformat": 4,
  "nbformat_minor": 0,
  "metadata": {
    "colab": {
      "name": "Invariant_mass.ipynb",
      "provenance": [],
      "collapsed_sections": [],
      "mount_file_id": "1t8QtLg84o1keb2RAOtckAXvbrfRN0_7-",
      "authorship_tag": "ABX9TyNcQXSIgDXG87nk0l3OX4/R",
      "include_colab_link": true
    },
    "kernelspec": {
      "name": "python3",
      "display_name": "Python 3"
    },
    "language_info": {
      "name": "python"
    }
  },
  "cells": [
    {
      "cell_type": "markdown",
      "metadata": {
        "id": "view-in-github",
        "colab_type": "text"
      },
      "source": [
        "<a href=\"https://colab.research.google.com/github/fisicadeparticulas/20210915_procesamientodearchivoslhe-AntonioVallejoT/blob/main/Invariant_mass.ipynb\" target=\"_parent\"><img src=\"https://colab.research.google.com/assets/colab-badge.svg\" alt=\"Open In Colab\"/></a>"
      ]
    },
    {
      "cell_type": "code",
      "metadata": {
        "colab": {
          "base_uri": "https://localhost:8080/"
        },
        "id": "0z9e5TQer5j9",
        "outputId": "9af054a5-7996-42ec-b377-8e88ad294dbc"
      },
      "source": [
        "# -*- coding: utf-8 -*-\n",
        "\"\"\"\n",
        "Created on Wed Sep 15 17:01:01 2021\n",
        "@author: Alan\n",
        "\n",
        "Modified on Sat Sep 18 20:52:17 2021\n",
        "@author: Antonio Vallejo\n",
        "\"\"\"\n",
        "import pandas as pd\n",
        "import csv\n",
        "import numpy as np      \n",
        "import matplotlib.pyplot as plt\n",
        "\n",
        "#Se define el DataFrame (marco de datos que usa pandas) \n",
        "# de nuestro archivo .csv\n",
        "df = pd.read_table('/content/drive/MyDrive/eventos_pxpypzE.csv',delimiter=',',header=None)\n",
        "\n",
        "\n",
        "#Se \"parte\" nuestro DF en filas pares y se crea un nuevo DF\n",
        "df_1=df.iloc[lambda x: x.index % 2 == 0]\n",
        "\n",
        "#Se reinician los indices predeterminados y se evita agregar el antiguo\n",
        "# indice como nueva columna\n",
        "df_1=df_1.reset_index(drop=True)\n",
        "\n",
        "#Se renombran las columnas de este DF\n",
        "df_1.rename(columns= {df_1.columns[0]: 'px',\n",
        "                      df_1.columns[1]: 'py',\n",
        "                      df_1.columns[2]: 'pz',\n",
        "                      df_1.columns[3]: 'E'}, inplace=True)\n",
        "\n",
        "#Se vuelve a \"partir\" nuestro DF en filas impares y se crea otro DF\n",
        "# y se reinician nuevamente sus indices\n",
        "df_2=df.iloc[lambda x: x.index % 2 != 0]\n",
        "df_2=df_2.reset_index(drop=True)\n",
        "\n",
        "#Se renombran las columnas de este DF\n",
        "df_2.rename(columns= {#df_2.columns[0]:'masa*',\n",
        "                      df_2.columns[0]: 'px1',\n",
        "                      df_2.columns[1]: 'py1',\n",
        "                      df_2.columns[2]: 'pz1',\n",
        "                      df_2.columns[3]: 'E1'}, inplace=True)\n",
        "\n",
        "#Se unen ambos DF para formar uno solo\n",
        "df_3=df_1.join(df_2)\n",
        "\n",
        "#El primer cuadrivector corresponde a los datos del muon-\n",
        "#El segundo cuadrivector(*) corresponde a los datos del muon+\n",
        "print(df_3.head())\n",
        "\n",
        "df_3.to_csv('mu-mu+.csv')  #, header=None, index=None)\n"
      ],
      "execution_count": 2,
      "outputs": [
        {
          "output_type": "stream",
          "name": "stdout",
          "text": [
            "          px         py          pz  ...        py1         pz1          E1\n",
            "0 -25.416007  35.010752   86.334113  ... -35.010752   39.850978   58.820291\n",
            "1  15.612459 -33.486087   15.291070  ...  33.486087  102.211484  108.684196\n",
            "2 -12.683705  15.981324  111.997587  ... -15.981324  -11.016872   23.187293\n",
            "3  13.174934  42.043646  -19.199519  ... -42.043646  -42.374808   61.129955\n",
            "4 -37.019273  -4.414691   77.437419  ...   4.414691  156.310601  160.695115\n",
            "\n",
            "[5 rows x 8 columns]\n"
          ]
        }
      ]
    },
    {
      "cell_type": "code",
      "metadata": {
        "id": "ltAlwOU1sHXt"
      },
      "source": [
        ""
      ],
      "execution_count": null,
      "outputs": []
    }
  ]
}