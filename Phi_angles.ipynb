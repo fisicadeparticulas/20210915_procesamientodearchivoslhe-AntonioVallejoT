{
  "nbformat": 4,
  "nbformat_minor": 0,
  "metadata": {
    "colab": {
      "name": "Phi_angles.ipynb",
      "provenance": [],
      "authorship_tag": "ABX9TyMe+oGmIJoCrzUMUEwKNIfM",
      "include_colab_link": true
    },
    "kernelspec": {
      "name": "python3",
      "display_name": "Python 3"
    },
    "language_info": {
      "name": "python"
    }
  },
  "cells": [
    {
      "cell_type": "markdown",
      "metadata": {
        "id": "view-in-github",
        "colab_type": "text"
      },
      "source": [
        "<a href=\"https://colab.research.google.com/github/fisicadeparticulas/20210915_procesamientodearchivoslhe-AntonioVallejoT/blob/main/Phi_angles.ipynb\" target=\"_parent\"><img src=\"https://colab.research.google.com/assets/colab-badge.svg\" alt=\"Open In Colab\"/></a>"
      ]
    },
    {
      "cell_type": "code",
      "metadata": {
        "colab": {
          "base_uri": "https://localhost:8080/",
          "height": 761
        },
        "id": "yOwVo0DFkGRF",
        "outputId": "cc7067a5-17b0-4fd8-a3f8-611e1bded415"
      },
      "source": [
        "import pandas as pd \n",
        "import numpy as np\n",
        "import matplotlib.pyplot as plt\n",
        "from matplotlib import pyplot\n",
        "from scipy.stats import norm\n",
        "\n",
        "\n",
        "\n",
        "data=pd.read_csv(\"/content/mu_mu.csv\")\n",
        "\n",
        "data.head()\n",
        "\n",
        "P1 = np.sqrt(data['px1']**2 + data['py1']**2)\n",
        "P2 = np.sqrt(data['px2']**2 + data['py2']**2)\n",
        "\n",
        "#Se utiliza arctan2 como la función arctan con dos argumentos, senx/cosx\n",
        "Phi__1 = np.arctan2(data['py1']/P1, data['px1']/P1)\n",
        "Phi__2 = np.arctan2(data['py2']/P2, data['px2']/P2)\n",
        "dPhi = np.absolute(Phi__2 - Phi__1)\n",
        "\n",
        "\n",
        "#np.arcsin( data['py1']/P)\n",
        "#np.arccos( data['px1']/P)\n",
        "#Phi2 = np.arctan( data['py2']/data['px2'])\n",
        "\n",
        "\n",
        "\n",
        "plt.hist(Phi__1)\n",
        "plt.show()\n",
        "\n",
        "plt.hist(Phi__2)\n",
        "plt.show()\n",
        "\n",
        "plt.hist(dPhi)\n",
        "plt.show()\n"
      ],
      "execution_count": 30,
      "outputs": [
        {
          "output_type": "display_data",
          "data": {
            "image/png": "[encoded data removed]",
            "text/plain": [
              "<Figure size 432x288 with 1 Axes>"
            ]
          },
          "metadata": {
            "needs_background": "light"
          }
        },
        {
          "output_type": "display_data",
          "data": {
            "image/png": "[encoded data removed]",
            "text/plain": [
              "<Figure size 432x288 with 1 Axes>"
            ]
          },
          "metadata": {
            "needs_background": "light"
          }
        },
        {
          "output_type": "display_data",
          "data": {
            "image/png": "[encoded data removed]",
            "text/plain": [
              "<Figure size 432x288 with 1 Axes>"
            ]
          },
          "metadata": {
            "needs_background": "light"
          }
        }
      ]
    },
    {
      "cell_type": "code",
      "metadata": {
        "id": "jdUt-2eak04C"
      },
      "source": [
        ""
      ],
      "execution_count": null,
      "outputs": []
    }
  ]
}