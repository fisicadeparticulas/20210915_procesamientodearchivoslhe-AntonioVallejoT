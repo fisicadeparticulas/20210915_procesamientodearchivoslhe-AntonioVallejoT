{
  "nbformat": 4,
  "nbformat_minor": 0,
  "metadata": {
    "colab": {
      "name": "Phi_angles.ipynb",
      "provenance": [],
      "authorship_tag": "ABX9TyNsIR9CZ8IUYBuGf6ZClO1g",
      "include_colab_link": true
    },
    "kernelspec": {
      "name": "python3",
      "display_name": "Python 3"
    },
    "language_info": {
      "name": "python"
    }
  },
  "cells": [
    {
      "cell_type": "markdown",
      "metadata": {
        "id": "view-in-github",
        "colab_type": "text"
      },
      "source": [
        "<a href=\"https://colab.research.google.com/github/fisicadeparticulas/20210915_procesamientodearchivoslhe-AntonioVallejoT/blob/main/Phi_angles.ipynb\" target=\"_parent\"><img src=\"https://colab.research.google.com/assets/colab-badge.svg\" alt=\"Open In Colab\"/></a>"
      ]
    },
    {
      "cell_type": "code",
      "metadata": {
        "colab": {
          "base_uri": "https://localhost:8080/",
          "height": 369
        },
        "id": "yOwVo0DFkGRF",
        "outputId": "20ef6ec7-7180-4713-8f82-69ab15c5fc5e"
      },
      "source": [
        "import pandas as pd \n",
        "import numpy as np\n",
        "import matplotlib.pyplot as plt\n",
        "from matplotlib import pyplot\n",
        "from scipy.stats import norm\n",
        "\n",
        "\n",
        "\n",
        "data=pd.read_csv(\"/content/mu_mu.csv\")\n",
        "\n",
        "data.head()\n",
        "\n",
        "P = np.sqrt(data['px1']**2 + data['py1']**2)\n",
        "\n",
        "Phi1 =  np.arctan( data['py2']/data['px2']) + np.arccos( data['px1']/P) + np.arcsin( data['py1']/P)\n",
        "\n",
        "#np.arcsin( data['py1']/P)\n",
        "#np.arccos( data['px1']/P)\n",
        "#Phi2 = np.arctan( data['py2']/data['px2'])\n",
        "\n",
        "\n",
        "plt.hist(Phi1)\n",
        "\n"
      ],
      "execution_count": 3,
      "outputs": [
        {
          "output_type": "execute_result",
          "data": {
            "text/plain": [
              "(array([ 986., 1062.,  653.,  347.,  359., 2322., 2302., 1302.,  313.,\n",
              "         354.]),\n",
              " array([-1.57044697, -0.94229774, -0.31414851,  0.31400073,  0.94214996,\n",
              "         1.5702992 ,  2.19844843,  2.82659767,  3.4547469 ,  4.08289614,\n",
              "         4.71104537]),\n",
              " <a list of 10 Patch objects>)"
            ]
          },
          "metadata": {},
          "execution_count": 3
        },
        {
          "output_type": "display_data",
          "data": {
            "image/png": "[encoded data removed]",
            "text/plain": [
              "<Figure size 432x288 with 1 Axes>"
            ]
          },
          "metadata": {
            "needs_background": "light"
          }
        }
      ]
    },
    {
      "cell_type": "code",
      "metadata": {
        "id": "jdUt-2eak04C"
      },
      "source": [
        ""
      ],
      "execution_count": null,
      "outputs": []
    }
  ]
}